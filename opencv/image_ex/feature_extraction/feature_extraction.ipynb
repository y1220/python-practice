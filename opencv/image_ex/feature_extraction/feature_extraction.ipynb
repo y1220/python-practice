{
 "cells": [
  {
   "cell_type": "code",
   "execution_count": 1,
   "metadata": {},
   "outputs": [],
   "source": [
    "import cv2\n",
    "import numpy as np\n",
    "import copy"
   ]
  },
  {
   "cell_type": "code",
   "execution_count": 2,
   "metadata": {},
   "outputs": [],
   "source": [
    "img = cv2.imread(\"data/src/buildings.jpg\")\n",
    "img_g = cv2.imread(\"data/src/buildings.jpg\",0)"
   ]
  },
  {
   "cell_type": "code",
   "execution_count": 4,
   "metadata": {},
   "outputs": [],
   "source": [
    "img_harris = copy.deepcopy(img) # for doing analyse they have to override so to maintain original image, do copy amd use it\n",
    "img_dst = cv2.cornerHarris(img_g, 2, 3, 0.04) # area to detect the corner"
   ]
  },
  {
   "cell_type": "code",
   "execution_count": 5,
   "metadata": {},
   "outputs": [
    {
     "data": {
      "text/plain": [
       "array([[ 4.5355941e-12,  4.5355941e-12,  1.1450840e-12, ...,\n",
       "         3.5410161e-10,  1.2930078e-10, -5.0404590e-11],\n",
       "       [ 4.5355941e-12,  4.5355941e-12,  1.1450840e-12, ...,\n",
       "         3.5410161e-10,  1.2930078e-10, -5.0404590e-11],\n",
       "       [ 4.2316168e-09,  4.2316168e-09,  3.0776830e-09, ...,\n",
       "        -5.2589799e-10,  3.0620961e-10,  2.3705828e-09],\n",
       "       ...,\n",
       "       [ 6.4994912e-09,  6.4994912e-09,  2.3405708e-09, ...,\n",
       "         3.6500258e-10,  1.3295992e-10,  6.5607251e-12],\n",
       "       [ 2.8279763e-09,  2.8279763e-09,  4.5132738e-09, ...,\n",
       "         8.2760368e-11,  8.2235725e-11,  7.3795293e-12],\n",
       "       [ 1.7488448e-09,  1.7488448e-09,  7.3175626e-09, ...,\n",
       "         5.8617985e-11,  2.5084396e-12,  3.2678409e-12]], dtype=float32)"
      ]
     },
     "execution_count": 5,
     "metadata": {},
     "output_type": "execute_result"
    }
   ],
   "source": [
    "img_dst"
   ]
  },
  {
   "cell_type": "code",
   "execution_count": 6,
   "metadata": {},
   "outputs": [],
   "source": [
    "# count the eigenvalue to distinguish corner, edge, flat\n",
    "# BGR\n",
    "img_harris[img_dst > 0.05 * img_dst.max()] = [0, 0, 255] #select red"
   ]
  },
  {
   "cell_type": "code",
   "execution_count": 7,
   "metadata": {},
   "outputs": [],
   "source": [
    "cv2.imshow(\"img\", img_harris)\n",
    "cv2.waitKey(0)\n",
    "cv2.destroyAllWindows()"
   ]
  },
  {
   "cell_type": "code",
   "execution_count": 9,
   "metadata": {},
   "outputs": [],
   "source": [
    "# kaze to detect the corner part\n",
    "img_kaze = copy.deepcopy(img)\n",
    "kaze = cv2.KAZE_create()\n",
    "# kaze = cv2.AKAZE_create()  quick ver\n",
    "kp1 = kaze.detect(img, None)\n",
    "img_kaze = cv2.drawKeypoints(img_kaze, kp1, None) # pass kp1\n",
    "cv2.imshow(\"img\", img_kaze)\n",
    "cv2.waitKey(0)\n",
    "cv2.destroyAllWindows()"
   ]
  },
  {
   "cell_type": "code",
   "execution_count": 10,
   "metadata": {},
   "outputs": [],
   "source": [
    "# orb to detect the corner part\n",
    "img_orb = copy.deepcopy(img)\n",
    "orb = cv2.ORB_create()\n",
    "kp2 = orb.detect(img_orb)\n",
    "img_orb = cv2.drawKeypoints(img_orb, kp2, None)\n",
    "cv2.imshow(\"img\", img_orb)\n",
    "cv2.waitKey(0)\n",
    "cv2.destroyAllWindows()"
   ]
  },
  {
   "cell_type": "code",
   "execution_count": 11,
   "metadata": {},
   "outputs": [],
   "source": [
    "# comparison\n",
    "cv2.imshow(\"Harris\", img_harris)\n",
    "cv2.imshow(\"ORB\", img_orb)\n",
    "cv2.imshow(\"AKAZE\", img_kaze)\n",
    "cv2.waitKey(0)\n",
    "cv2.destroyAllWindows()"
   ]
  },
  {
   "cell_type": "code",
   "execution_count": null,
   "metadata": {},
   "outputs": [],
   "source": []
  }
 ],
 "metadata": {
  "kernelspec": {
   "display_name": "Python 3",
   "language": "python",
   "name": "python3"
  },
  "language_info": {
   "codemirror_mode": {
    "name": "ipython",
    "version": 3
   },
   "file_extension": ".py",
   "mimetype": "text/x-python",
   "name": "python",
   "nbconvert_exporter": "python",
   "pygments_lexer": "ipython3",
   "version": "3.5.5"
  }
 },
 "nbformat": 4,
 "nbformat_minor": 2
}
