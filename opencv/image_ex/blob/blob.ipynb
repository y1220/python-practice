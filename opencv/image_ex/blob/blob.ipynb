{
 "cells": [
  {
   "cell_type": "code",
   "execution_count": 12,
   "metadata": {},
   "outputs": [],
   "source": [
    "import cv2\n",
    "import copy\n",
    "# blob -> かたまりうを見つける"
   ]
  },
  {
   "cell_type": "code",
   "execution_count": 2,
   "metadata": {},
   "outputs": [],
   "source": [
    "img = cv2.imread(\"data/src/Blob.png\")\n",
    "img_g = cv2.imread(\"data/src/Blob.png\", 0)\n",
    "cv2.imshow(\"img\", img)\n",
    "cv2.waitKey(0)\n",
    "cv2.destroyAllWindows()"
   ]
  },
  {
   "cell_type": "code",
   "execution_count": 4,
   "metadata": {},
   "outputs": [],
   "source": [
    "# Binarization\n",
    "ret, img_bi = cv2.threshold(img_g, 100, 255, cv2.THRESH_BINARY)\n",
    "cv2.imshow(\"img_bi\",img_bi)\n",
    "cv2.waitKey(0)\n",
    "cv2.destroyAllWindows()"
   ]
  },
  {
   "cell_type": "code",
   "execution_count": 6,
   "metadata": {},
   "outputs": [],
   "source": [
    "# prepare output variable \n",
    "nLabels, labelImage, stats, centroids = cv2.connectedComponentsWithStats(img_bi)"
   ]
  },
  {
   "cell_type": "code",
   "execution_count": 7,
   "metadata": {},
   "outputs": [
    {
     "data": {
      "text/plain": [
       "5"
      ]
     },
     "execution_count": 7,
     "metadata": {},
     "output_type": "execute_result"
    }
   ],
   "source": [
    "# includig the background as one\n",
    "nLabels"
   ]
  },
  {
   "cell_type": "code",
   "execution_count": 8,
   "metadata": {},
   "outputs": [
    {
     "data": {
      "text/plain": [
       "array([[0, 0, 0, ..., 0, 0, 0],\n",
       "       [0, 0, 0, ..., 0, 0, 0],\n",
       "       [0, 0, 0, ..., 0, 0, 0],\n",
       "       ...,\n",
       "       [0, 0, 0, ..., 0, 0, 0],\n",
       "       [0, 0, 0, ..., 0, 0, 0],\n",
       "       [0, 0, 0, ..., 0, 0, 0]], dtype=int32)"
      ]
     },
     "execution_count": 8,
     "metadata": {},
     "output_type": "execute_result"
    }
   ],
   "source": [
    "labelImage"
   ]
  },
  {
   "cell_type": "code",
   "execution_count": 9,
   "metadata": {},
   "outputs": [
    {
     "data": {
      "text/plain": [
       "array([[      0,       0,    1672,    1078, 1578760],\n",
       "       [    818,      88,     365,     311,   56799],\n",
       "       [    256,     143,     150,     150,   17656],\n",
       "       [    163,     471,     336,     363,   89208],\n",
       "       [   1048,     574,     302,     288,   59993]], dtype=int32)"
      ]
     },
     "execution_count": 9,
     "metadata": {},
     "output_type": "execute_result"
    }
   ],
   "source": [
    "# min x, min y width, height, area\n",
    "# top is a background\n",
    "# third one is a circle\n",
    "stats"
   ]
  },
  {
   "cell_type": "code",
   "execution_count": 18,
   "metadata": {},
   "outputs": [],
   "source": [
    "img_blob = copy.deepcopy(img)\n",
    "h, w = img_g.shape\n",
    "color = [[255,0,0], [0,255,0], [0,0,255], [255,255,0]] # colour list\n",
    "for y in range(h):\n",
    "    for x in range(w):\n",
    "        if labelImage[y,x] > 0: # means that it is blob not background\n",
    "            img_blob[y,x] = color[labelImage[y,x]-1] # assign the colour\n",
    "for i in range(1, nLabels):\n",
    "    xc = int(centroids[i][0]) # Center of mass\n",
    "    yc = int(centroids[i][1])    \n",
    "    font = cv2.FONT_HERSHEY_COMPLEX\n",
    "    scale = 1\n",
    "    color = (255,255,255) # white\n",
    "    # -1 means last\n",
    "    cv2.putText(img_blob, str(stats[i][-1]), (xc, yc), font, scale, color)"
   ]
  },
  {
   "cell_type": "code",
   "execution_count": 19,
   "metadata": {},
   "outputs": [],
   "source": [
    "cv2.imshow(\"img\",img_blob)\n",
    "cv2.waitKey(0)\n",
    "cv2.destroyAllWindows()\n",
    "# change the colour, put the calculated number "
   ]
  },
  {
   "cell_type": "code",
   "execution_count": null,
   "metadata": {},
   "outputs": [],
   "source": []
  }
 ],
 "metadata": {
  "kernelspec": {
   "display_name": "Python 3",
   "language": "python",
   "name": "python3"
  },
  "language_info": {
   "codemirror_mode": {
    "name": "ipython",
    "version": 3
   },
   "file_extension": ".py",
   "mimetype": "text/x-python",
   "name": "python",
   "nbconvert_exporter": "python",
   "pygments_lexer": "ipython3",
   "version": "3.5.5"
  }
 },
 "nbformat": 4,
 "nbformat_minor": 2
}
