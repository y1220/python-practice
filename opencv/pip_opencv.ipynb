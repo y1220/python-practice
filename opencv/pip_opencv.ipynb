{
 "cells": [
  {
   "cell_type": "code",
   "execution_count": 1,
   "metadata": {},
   "outputs": [
    {
     "ename": "ModuleNotFoundError",
     "evalue": "No module named 'cv2'",
     "output_type": "error",
     "traceback": [
      "\u001b[0;31m---------------------------------------------------------------------------\u001b[0m",
      "\u001b[0;31mModuleNotFoundError\u001b[0m                       Traceback (most recent call last)",
      "\u001b[0;32m<ipython-input-1-c8ec22b3e787>\u001b[0m in \u001b[0;36m<module>\u001b[0;34m\u001b[0m\n\u001b[0;32m----> 1\u001b[0;31m \u001b[0;32mimport\u001b[0m \u001b[0mcv2\u001b[0m\u001b[0;34m\u001b[0m\u001b[0;34m\u001b[0m\u001b[0m\n\u001b[0m",
      "\u001b[0;31mModuleNotFoundError\u001b[0m: No module named 'cv2'"
     ]
    }
   ],
   "source": [
    "import cv2"
   ]
  },
  {
   "cell_type": "code",
   "execution_count": 2,
   "metadata": {},
   "outputs": [
    {
     "name": "stdout",
     "output_type": "stream",
     "text": [
      "\u001b[31mERROR: Could not find a version that satisfies the requirement cv2\u001b[0m\n",
      "\u001b[31mERROR: No matching distribution found for cv2\u001b[0m\n",
      "Note: you may need to restart the kernel to use updated packages.\n"
     ]
    }
   ],
   "source": [
    "# such command doesn’t exist\n",
    "# pip install cv2"
   ]
  },
  {
   "cell_type": "code",
   "execution_count": 3,
   "metadata": {},
   "outputs": [
    {
     "name": "stdout",
     "output_type": "stream",
     "text": [
      "Collecting opencv-python\n",
      "  Downloading opencv_python-4.5.1.48-cp37-cp37m-manylinux2014_x86_64.whl (50.4 MB)\n",
      "\u001b[K     |████████████████████████████████| 50.4 MB 8.4 MB/s eta 0:00:013     |███████████████▉                | 24.9 MB 10.6 MB/s eta 0:00:03     |████████████████▍               | 25.7 MB 10.6 MB/s eta 0:00:03     |████████████████▉               | 26.5 MB 10.6 MB/s eta 0:00:03     |█████████████████               | 26.9 MB 10.6 MB/s eta 0:00:03     |█████████████████▍              | 27.3 MB 10.6 MB/s eta 0:00:03     |█████████████████▉              | 28.1 MB 5.4 MB/s eta 0:00:05     |██████████████████▍             | 28.9 MB 5.4 MB/s eta 0:00:04     |███████████████████████████▍    | 43.2 MB 5.1 MB/s eta 0:00:02     |████████████████████████████▎   | 44.5 MB 5.1 MB/s eta 0:00:02     |████████████████████████████▉   | 45.5 MB 5.1 MB/s eta 0:00:01\n",
      "\u001b[?25hRequirement already satisfied: numpy>=1.14.5 in /opt/anaconda3/lib/python3.7/site-packages (from opencv-python) (1.19.5)\n",
      "Installing collected packages: opencv-python\n",
      "Successfully installed opencv-python-4.5.1.48\n",
      "Note: you may need to restart the kernel to use updated packages.\n"
     ]
    }
   ],
   "source": [
    "# On docker it is not suitable\n",
    "# pip install opencv-python"
   ]
  },
  {
   "cell_type": "code",
   "execution_count": null,
   "metadata": {},
   "outputs": [],
   "source": [
    "from __future__ import print_function\n",
    "import cv2.data.haarcascades\n",
    "import numpy as np\n",
    "import matplotlib.pyplot as plt\n",
    "\n",
    "from ipywidgets import interact, interactive, fixed, interact_manual\n",
    "import ipywidgets as widgets\n",
    "\n",
    "# Masking\n",
    "stop_img = cv2.cvtColor(cv2.imread('stop.jpg'), cv2.COLOR_BGR2RGB)\n",
    "plt.figure(figsize=(12, 3))\n",
    "plt.subplot(1,3,1)\n",
    "plt.imshow(stop_img)\n",
    "\n",
    "plt.subplot(1,3,2)\n",
    "red_channel = stop_img[:,:,0]\n",
    "plt.imshow(red_channel, cmpa= \"gray\")\n",
    "\n",
    "plt.subplot(1,3,3)\n",
    "_, thresh = cv2.threshold(red_channel, 120, 255, cv2.THRESH_BINARY)\n",
    "plt.imshow(thresh, cmap= 'gray')"
   ]
  },
  {
   "cell_type": "code",
   "execution_count": null,
   "metadata": {},
   "outputs": [],
   "source": []
  },
  {
   "cell_type": "code",
   "execution_count": 9,
   "metadata": {},
   "outputs": [
    {
     "name": "stdout",
     "output_type": "stream",
     "text": [
      "Collecting opencv-python-headless\n",
      "  Downloading opencv_python_headless-4.5.1.48-cp37-cp37m-manylinux2014_x86_64.whl (37.6 MB)\n",
      "\u001b[K     |████████████████████████████████| 37.6 MB 10.6 MB/s eta 0:00:01     |██████████████▌                 | 17.1 MB 10.0 MB/s eta 0:00:03     |█████████████████▊              | 20.8 MB 11.6 MB/s eta 0:00:02     |███████████████████████████████▏| 36.6 MB 10.6 MB/s eta 0:00:01\n",
      "\u001b[?25hRequirement already satisfied: numpy>=1.14.5 in /opt/anaconda3/lib/python3.7/site-packages (from opencv-python-headless) (1.19.5)\n",
      "Installing collected packages: opencv-python-headless\n",
      "Successfully installed opencv-python-headless-4.5.1.48\n",
      "Note: you may need to restart the kernel to use updated packages.\n"
     ]
    }
   ],
   "source": [
    "# it is a correct one to call\n",
    "pip install opencv-python-headless"
   ]
  },
  {
   "cell_type": "code",
   "execution_count": null,
   "metadata": {},
   "outputs": [],
   "source": [
    "# These packages are smaller than the two other packages above \n",
    "# because they do not contain any GUI functionality (not compiled\n",
    "# with Qt / other GUI components). This means that the packages \n",
    "# avoid a heavy dependency chain to X11 libraries and you will\n",
    "# have for example smaller Docker images as a result. \n",
    "# You should always use these packages if you do not use cv2.imshow \n",
    "# et al. or you are using some other package (such as PyQt) than\n",
    "# OpenCV to create your GUI."
   ]
  },
  {
   "cell_type": "code",
   "execution_count": null,
   "metadata": {},
   "outputs": [],
   "source": []
  },
  {
   "cell_type": "code",
   "execution_count": null,
   "metadata": {},
   "outputs": [],
   "source": []
  },
  {
   "cell_type": "code",
   "execution_count": null,
   "metadata": {},
   "outputs": [],
   "source": []
  }
 ],
 "metadata": {
  "kernelspec": {
   "display_name": "Python 3",
   "language": "python",
   "name": "python3"
  },
  "language_info": {
   "codemirror_mode": {
    "name": "ipython",
    "version": 3
   },
   "file_extension": ".py",
   "mimetype": "text/x-python",
   "name": "python",
   "nbconvert_exporter": "python",
   "pygments_lexer": "ipython3",
   "version": "3.7.4"
  }
 },
 "nbformat": 4,
 "nbformat_minor": 4
}
